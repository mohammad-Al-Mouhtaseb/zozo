{
 "cells": [
  {
   "cell_type": "code",
   "execution_count": 19,
   "id": "0b48942c",
   "metadata": {},
   "outputs": [],
   "source": [
    "import joblib\n",
    "import pandas as pd\n",
    "#from sklearn.datasets import load_iris\n",
    "from sklearn.model_selection import train_test_split\n",
    "from sklearn.compose import ColumnTransformer\n",
    "from sklearn.pipeline import Pipeline\n",
    "from sklearn.preprocessing import StandardScaler\n",
    "from sklearn.tree import DecisionTreeClassifier\n",
    "from sklearn.ensemble import RandomForestClassifier\n",
    "from sklearn import set_config\n",
    "from sklearn.metrics import accuracy_score\n",
    "import xgboost as xgb\n",
    "from xgboost import XGBClassifier"
   ]
  },
  {
   "cell_type": "code",
   "execution_count": 35,
   "id": "87fbb51e",
   "metadata": {},
   "outputs": [],
   "source": [
    "df = pd.read_csv('panic-disorder-detection-dataset/panic_disorder_dataset_training.csv')"
   ]
  },
  {
   "cell_type": "code",
   "execution_count": 44,
   "id": "7c960ec5",
   "metadata": {},
   "outputs": [
    {
     "name": "stderr",
     "output_type": "stream",
     "text": [
      "C:\\Users\\malmo\\AppData\\Local\\Temp\\ipykernel_14928\\1448240228.py:19: FutureWarning: Downcasting behavior in `replace` is deprecated and will be removed in a future version. To retain the old behavior, explicitly call `result.infer_objects(copy=False)`. To opt-in to the future behavior, set `pd.set_option('future.no_silent_downcasting', True)`\n",
      "  df_No = df_No.replace(mapping)\n"
     ]
    },
    {
     "data": {
      "text/plain": [
       "0    1\n",
       "1    1\n",
       "2    0\n",
       "3    1\n",
       "4    0\n",
       "Name: Family_History, dtype: int64"
      ]
     },
     "execution_count": 44,
     "metadata": {},
     "output_type": "execute_result"
    }
   ],
   "source": [
    "df_No = df\n",
    "columns = ['Gender','Family_History','Personal_History','Current_Stressors','Symptoms','Severity','Impact_on_Life','Demographics','Medical_History','Psychiatric_History','Substance_Use','Coping_Mechanisms','Social_Support','Lifestyle_Factors']\n",
    "# Create a dictionary that maps each categorical value to a unique integer\n",
    "mapping = {}\n",
    "category = ''\n",
    "encoding = 0\n",
    "for column in columns:\n",
    "    unique_values = df[column].unique()\n",
    "    #print('---------------------------------------------------------------------')\n",
    "    #print('column = ',column)\n",
    "    for i, value in enumerate(unique_values):\n",
    "        mapping[value] = i\n",
    "        category = value\n",
    "        encoding = i\n",
    "        #print('category = ',category, '(',encoding,')')\n",
    "        \n",
    "\n",
    "# Use the `replace()` method to replace the categorical values with their corresponding integers\n",
    "df_No = df_No.replace(mapping)\n",
    "\n",
    "filter_b=df_No['Panic_Disorder_Diagnosis'].between(1,3)\n",
    "mult_condition_filters = df_No[filter_b]\n",
    "df_No['Family_History'].head()"
   ]
  },
  {
   "cell_type": "code",
   "execution_count": null,
   "id": "bb8857d7",
   "metadata": {},
   "outputs": [
    {
     "data": {
      "text/plain": [
       "0    0\n",
       "1    0\n",
       "2    0\n",
       "3    0\n",
       "4    0\n",
       "Name: Panic_Disorder_Diagnosis, dtype: int64"
      ]
     },
     "execution_count": 4,
     "metadata": {},
     "output_type": "execute_result"
    }
   ],
   "source": [
    "df_No['Panic_Disorder_Diagnosis'].head()"
   ]
  },
  {
   "cell_type": "code",
   "execution_count": null,
   "id": "d4e11029",
   "metadata": {},
   "outputs": [],
   "source": [
    "x_train,x_test,y_train,y_test = train_test_split(df_No.drop(columns = ['Panic_Disorder_Diagnosis','Participant_ID'] , axis = 1) , df_No['Panic_Disorder_Diagnosis'] , test_size = 0.3)\n"
   ]
  },
  {
   "cell_type": "code",
   "execution_count": null,
   "id": "1ba7f76b",
   "metadata": {},
   "outputs": [
    {
     "name": "stdout",
     "output_type": "stream",
     "text": [
      "('Accuracy:', 0.9766)\n"
     ]
    }
   ],
   "source": [
    "x_train,x_test,y_train,y_test = train_test_split(df_No.drop(columns = ['Panic_Disorder_Diagnosis','Participant_ID'] , axis = 1) , df_No['Panic_Disorder_Diagnosis'] , test_size = 0.3, random_state = 65)\n",
    "\n",
    "tf1_xgc = ColumnTransformer([('Standard Scaler', StandardScaler(), slice(0,17))])\n",
    "xgc = XGBClassifier()\n",
    "\n",
    "pipe_xgc = Pipeline([('StandardScaler',tf1_xgc),('XG Boost Classifier',xgc)])\n",
    "\n",
    "pipe_xgc.fit(x_train,y_train)\n",
    "\n",
    "# Calculate the accuracy of the classifier\n",
    "y_pred_xgc = pipe_xgc.predict(x_test)\n",
    "accuracy_xgc = accuracy_score(y_test, y_pred_xgc)\n",
    "print((\"Accuracy:\", accuracy_xgc))\n",
    "\n",
    "set_config(display='diagram')\n",
    "#pipe_xgc"
   ]
  },
  {
   "cell_type": "code",
   "execution_count": null,
   "id": "4d5ae2b9",
   "metadata": {},
   "outputs": [],
   "source": [
    "test = pd.read_csv('panic-disorder-detection-dataset/panic_disorder_dataset_testing.csv')"
   ]
  },
  {
   "cell_type": "code",
   "execution_count": null,
   "id": "cafe6ca4",
   "metadata": {},
   "outputs": [
    {
     "name": "stderr",
     "output_type": "stream",
     "text": [
      "C:\\Users\\malmo\\AppData\\Local\\Temp\\ipykernel_14928\\2069597830.py:19: FutureWarning: Downcasting behavior in `replace` is deprecated and will be removed in a future version. To retain the old behavior, explicitly call `result.infer_objects(copy=False)`. To opt-in to the future behavior, set `pd.set_option('future.no_silent_downcasting', True)`\n",
      "  test_No = test_No.replace(mapping)\n"
     ]
    }
   ],
   "source": [
    "test_No = test\n",
    "columns = ['Gender','Family_History','Personal_History','Current_Stressors','Symptoms','Severity','Impact_on_Life','Demographics','Medical_History','Psychiatric_History','Substance_Use','Coping_Mechanisms','Social_Support','Lifestyle_Factors']\n",
    "# Create a dictionary that maps each categorical value to a unique integer\n",
    "mapping = {}\n",
    "category = ''\n",
    "encoding = 0\n",
    "for column in columns:\n",
    "    unique_values = df[column].unique()\n",
    "    #print('---------------------------------------------------------------------')\n",
    "    #print('column = ',column)\n",
    "    for i, value in enumerate(unique_values):\n",
    "        mapping[value] = i\n",
    "        category = value\n",
    "        encoding = i\n",
    "        #print('category = ',category, '(',encoding,')')\n",
    "        \n",
    "\n",
    "# Use the `replace()` method to replace the categorical values with their corresponding integers\n",
    "test_No = test_No.replace(mapping)"
   ]
  },
  {
   "cell_type": "code",
   "execution_count": null,
   "id": "d1403a87",
   "metadata": {},
   "outputs": [
    {
     "data": {
      "text/html": [
       "<div>\n",
       "<style scoped>\n",
       "    .dataframe tbody tr th:only-of-type {\n",
       "        vertical-align: middle;\n",
       "    }\n",
       "\n",
       "    .dataframe tbody tr th {\n",
       "        vertical-align: top;\n",
       "    }\n",
       "\n",
       "    .dataframe thead th {\n",
       "        text-align: right;\n",
       "    }\n",
       "</style>\n",
       "<table border=\"1\" class=\"dataframe\">\n",
       "  <thead>\n",
       "    <tr style=\"text-align: right;\">\n",
       "      <th></th>\n",
       "      <th>Age</th>\n",
       "      <th>Gender</th>\n",
       "      <th>Family_History</th>\n",
       "      <th>Personal_History</th>\n",
       "      <th>Current_Stressors</th>\n",
       "      <th>Symptoms</th>\n",
       "      <th>Severity</th>\n",
       "      <th>Impact_on_Life</th>\n",
       "      <th>Demographics</th>\n",
       "      <th>Medical_History</th>\n",
       "      <th>Psychiatric_History</th>\n",
       "      <th>Substance_Use</th>\n",
       "      <th>Coping_Mechanisms</th>\n",
       "      <th>Social_Support</th>\n",
       "      <th>Lifestyle_Factors</th>\n",
       "    </tr>\n",
       "  </thead>\n",
       "  <tbody>\n",
       "    <tr>\n",
       "      <th>0</th>\n",
       "      <td>41</td>\n",
       "      <td>0</td>\n",
       "      <td>0</td>\n",
       "      <td>1</td>\n",
       "      <td>0</td>\n",
       "      <td>0</td>\n",
       "      <td>0</td>\n",
       "      <td>0</td>\n",
       "      <td>1</td>\n",
       "      <td>0</td>\n",
       "      <td>0</td>\n",
       "      <td>2</td>\n",
       "      <td>2</td>\n",
       "      <td>2</td>\n",
       "      <td>1</td>\n",
       "    </tr>\n",
       "    <tr>\n",
       "      <th>1</th>\n",
       "      <td>20</td>\n",
       "      <td>1</td>\n",
       "      <td>0</td>\n",
       "      <td>1</td>\n",
       "      <td>2</td>\n",
       "      <td>0</td>\n",
       "      <td>0</td>\n",
       "      <td>1</td>\n",
       "      <td>1</td>\n",
       "      <td>1</td>\n",
       "      <td>1</td>\n",
       "      <td>1</td>\n",
       "      <td>1</td>\n",
       "      <td>0</td>\n",
       "      <td>2</td>\n",
       "    </tr>\n",
       "    <tr>\n",
       "      <th>2</th>\n",
       "      <td>32</td>\n",
       "      <td>0</td>\n",
       "      <td>0</td>\n",
       "      <td>0</td>\n",
       "      <td>0</td>\n",
       "      <td>1</td>\n",
       "      <td>2</td>\n",
       "      <td>0</td>\n",
       "      <td>0</td>\n",
       "      <td>3</td>\n",
       "      <td>0</td>\n",
       "      <td>1</td>\n",
       "      <td>3</td>\n",
       "      <td>1</td>\n",
       "      <td>1</td>\n",
       "    </tr>\n",
       "    <tr>\n",
       "      <th>3</th>\n",
       "      <td>41</td>\n",
       "      <td>1</td>\n",
       "      <td>0</td>\n",
       "      <td>0</td>\n",
       "      <td>1</td>\n",
       "      <td>0</td>\n",
       "      <td>1</td>\n",
       "      <td>1</td>\n",
       "      <td>1</td>\n",
       "      <td>3</td>\n",
       "      <td>1</td>\n",
       "      <td>0</td>\n",
       "      <td>1</td>\n",
       "      <td>0</td>\n",
       "      <td>0</td>\n",
       "    </tr>\n",
       "    <tr>\n",
       "      <th>4</th>\n",
       "      <td>36</td>\n",
       "      <td>1</td>\n",
       "      <td>0</td>\n",
       "      <td>1</td>\n",
       "      <td>0</td>\n",
       "      <td>2</td>\n",
       "      <td>2</td>\n",
       "      <td>1</td>\n",
       "      <td>0</td>\n",
       "      <td>1</td>\n",
       "      <td>2</td>\n",
       "      <td>0</td>\n",
       "      <td>2</td>\n",
       "      <td>2</td>\n",
       "      <td>1</td>\n",
       "    </tr>\n",
       "    <tr>\n",
       "      <th>...</th>\n",
       "      <td>...</td>\n",
       "      <td>...</td>\n",
       "      <td>...</td>\n",
       "      <td>...</td>\n",
       "      <td>...</td>\n",
       "      <td>...</td>\n",
       "      <td>...</td>\n",
       "      <td>...</td>\n",
       "      <td>...</td>\n",
       "      <td>...</td>\n",
       "      <td>...</td>\n",
       "      <td>...</td>\n",
       "      <td>...</td>\n",
       "      <td>...</td>\n",
       "      <td>...</td>\n",
       "    </tr>\n",
       "    <tr>\n",
       "      <th>19995</th>\n",
       "      <td>31</td>\n",
       "      <td>1</td>\n",
       "      <td>0</td>\n",
       "      <td>0</td>\n",
       "      <td>0</td>\n",
       "      <td>2</td>\n",
       "      <td>1</td>\n",
       "      <td>1</td>\n",
       "      <td>0</td>\n",
       "      <td>3</td>\n",
       "      <td>0</td>\n",
       "      <td>0</td>\n",
       "      <td>1</td>\n",
       "      <td>1</td>\n",
       "      <td>0</td>\n",
       "    </tr>\n",
       "    <tr>\n",
       "      <th>19996</th>\n",
       "      <td>27</td>\n",
       "      <td>0</td>\n",
       "      <td>1</td>\n",
       "      <td>0</td>\n",
       "      <td>0</td>\n",
       "      <td>1</td>\n",
       "      <td>0</td>\n",
       "      <td>1</td>\n",
       "      <td>0</td>\n",
       "      <td>1</td>\n",
       "      <td>0</td>\n",
       "      <td>2</td>\n",
       "      <td>1</td>\n",
       "      <td>0</td>\n",
       "      <td>2</td>\n",
       "    </tr>\n",
       "    <tr>\n",
       "      <th>19997</th>\n",
       "      <td>21</td>\n",
       "      <td>1</td>\n",
       "      <td>1</td>\n",
       "      <td>1</td>\n",
       "      <td>2</td>\n",
       "      <td>3</td>\n",
       "      <td>1</td>\n",
       "      <td>1</td>\n",
       "      <td>1</td>\n",
       "      <td>1</td>\n",
       "      <td>1</td>\n",
       "      <td>2</td>\n",
       "      <td>0</td>\n",
       "      <td>1</td>\n",
       "      <td>2</td>\n",
       "    </tr>\n",
       "    <tr>\n",
       "      <th>19998</th>\n",
       "      <td>28</td>\n",
       "      <td>0</td>\n",
       "      <td>1</td>\n",
       "      <td>0</td>\n",
       "      <td>1</td>\n",
       "      <td>3</td>\n",
       "      <td>0</td>\n",
       "      <td>1</td>\n",
       "      <td>0</td>\n",
       "      <td>3</td>\n",
       "      <td>1</td>\n",
       "      <td>0</td>\n",
       "      <td>3</td>\n",
       "      <td>1</td>\n",
       "      <td>0</td>\n",
       "    </tr>\n",
       "    <tr>\n",
       "      <th>19999</th>\n",
       "      <td>22</td>\n",
       "      <td>1</td>\n",
       "      <td>1</td>\n",
       "      <td>0</td>\n",
       "      <td>0</td>\n",
       "      <td>3</td>\n",
       "      <td>2</td>\n",
       "      <td>1</td>\n",
       "      <td>1</td>\n",
       "      <td>0</td>\n",
       "      <td>0</td>\n",
       "      <td>2</td>\n",
       "      <td>2</td>\n",
       "      <td>2</td>\n",
       "      <td>0</td>\n",
       "    </tr>\n",
       "  </tbody>\n",
       "</table>\n",
       "<p>20000 rows × 15 columns</p>\n",
       "</div>"
      ],
      "text/plain": [
       "       Age  Gender  Family_History  Personal_History  Current_Stressors  \\\n",
       "0       41       0               0                 1                  0   \n",
       "1       20       1               0                 1                  2   \n",
       "2       32       0               0                 0                  0   \n",
       "3       41       1               0                 0                  1   \n",
       "4       36       1               0                 1                  0   \n",
       "...    ...     ...             ...               ...                ...   \n",
       "19995   31       1               0                 0                  0   \n",
       "19996   27       0               1                 0                  0   \n",
       "19997   21       1               1                 1                  2   \n",
       "19998   28       0               1                 0                  1   \n",
       "19999   22       1               1                 0                  0   \n",
       "\n",
       "       Symptoms  Severity  Impact_on_Life  Demographics  Medical_History  \\\n",
       "0             0         0               0             1                0   \n",
       "1             0         0               1             1                1   \n",
       "2             1         2               0             0                3   \n",
       "3             0         1               1             1                3   \n",
       "4             2         2               1             0                1   \n",
       "...         ...       ...             ...           ...              ...   \n",
       "19995         2         1               1             0                3   \n",
       "19996         1         0               1             0                1   \n",
       "19997         3         1               1             1                1   \n",
       "19998         3         0               1             0                3   \n",
       "19999         3         2               1             1                0   \n",
       "\n",
       "       Psychiatric_History  Substance_Use  Coping_Mechanisms  Social_Support  \\\n",
       "0                        0              2                  2               2   \n",
       "1                        1              1                  1               0   \n",
       "2                        0              1                  3               1   \n",
       "3                        1              0                  1               0   \n",
       "4                        2              0                  2               2   \n",
       "...                    ...            ...                ...             ...   \n",
       "19995                    0              0                  1               1   \n",
       "19996                    0              2                  1               0   \n",
       "19997                    1              2                  0               1   \n",
       "19998                    1              0                  3               1   \n",
       "19999                    0              2                  2               2   \n",
       "\n",
       "       Lifestyle_Factors  \n",
       "0                      1  \n",
       "1                      2  \n",
       "2                      1  \n",
       "3                      0  \n",
       "4                      1  \n",
       "...                  ...  \n",
       "19995                  0  \n",
       "19996                  2  \n",
       "19997                  2  \n",
       "19998                  0  \n",
       "19999                  0  \n",
       "\n",
       "[20000 rows x 15 columns]"
      ]
     },
     "execution_count": 9,
     "metadata": {},
     "output_type": "execute_result"
    }
   ],
   "source": [
    "x_test1 = test_No.drop(columns = ['Panic_Disorder_Diagnosis','Participant_ID'] , axis = 1)\n",
    "y_test1 = test_No['Panic_Disorder_Diagnosis']\n",
    "\n",
    "x_test1.columns\n",
    "x_test1"
   ]
  },
  {
   "cell_type": "code",
   "execution_count": null,
   "id": "cfeb190f",
   "metadata": {},
   "outputs": [],
   "source": [
    "y_pred_x_test1 = pipe_xgc.predict(x_test1)"
   ]
  },
  {
   "cell_type": "code",
   "execution_count": null,
   "id": "e37daf01",
   "metadata": {},
   "outputs": [],
   "source": [
    "accuracy_xgc = accuracy_score(y_test1, y_pred_x_test1)\n",
    "#print('Accuracy of XGBoost Classifier on Test Dataset = ', accuracy_xgc)"
   ]
  },
  {
   "cell_type": "code",
   "execution_count": null,
   "id": "2504e4b6",
   "metadata": {},
   "outputs": [
    {
     "data": {
      "text/plain": [
       "['./../savedModels/XGBoost.joblib']"
      ]
     },
     "execution_count": 12,
     "metadata": {},
     "output_type": "execute_result"
    }
   ],
   "source": [
    "joblib.dump(mapping, \"./../savedModels/mapping.joblib\", compress=True)\n",
    "joblib.dump(pipe_xgc, \"./../savedModels/XGBoost.joblib\", compress=True)"
   ]
  },
  {
   "cell_type": "code",
   "execution_count": null,
   "id": "35abbaac",
   "metadata": {},
   "outputs": [],
   "source": [
    "#joblib.load(\"./mapping.joblib\")\n"
   ]
  },
  {
   "cell_type": "code",
   "execution_count": null,
   "id": "4f6d7dc1",
   "metadata": {},
   "outputs": [
    {
     "data": {
      "text/plain": [
       "{'Male': 0,\n",
       " 'Female': 1,\n",
       " 'No': 1,\n",
       " 'Yes': 0,\n",
       " 'Moderate': 1,\n",
       " 'High': 0,\n",
       " 'Low': 2,\n",
       " 'Shortness of breath': 0,\n",
       " 'Panic attacks': 1,\n",
       " 'Chest pain': 2,\n",
       " 'Dizziness': 3,\n",
       " 'Fear of losing control': 4,\n",
       " 'Mild': 0,\n",
       " 'Severe': 2,\n",
       " 'Significant': 1,\n",
       " 'Rural': 0,\n",
       " 'Urban': 1,\n",
       " 'Diabetes': 0,\n",
       " 'Asthma': 1,\n",
       " nan: 0,\n",
       " 'Heart disease': 3,\n",
       " 'Bipolar disorder': 0,\n",
       " 'Anxiety disorder': 1,\n",
       " 'Depressive disorder': 2,\n",
       " 'Drugs': 1,\n",
       " 'Alcohol': 2,\n",
       " 'Socializing': 0,\n",
       " 'Exercise': 1,\n",
       " 'Seeking therapy': 2,\n",
       " 'Meditation': 3,\n",
       " 'Sleep quality': 0,\n",
       " 'Diet': 2}"
      ]
     },
     "execution_count": 14,
     "metadata": {},
     "output_type": "execute_result"
    }
   ],
   "source": [
    "#joblib.load(\"./XGBoost.joblib\")\n",
    "mapping"
   ]
  },
  {
   "cell_type": "code",
   "execution_count": null,
   "id": "f87988d2",
   "metadata": {},
   "outputs": [
    {
     "name": "stdout",
     "output_type": "stream",
     "text": [
      "Panic_Disorder_Diagnosis is True\n"
     ]
    },
    {
     "name": "stderr",
     "output_type": "stream",
     "text": [
      "e:\\jp\\djenv\\Lib\\site-packages\\sklearn\\base.py:493: UserWarning: X does not have valid feature names, but StandardScaler was fitted with feature names\n",
      "  warnings.warn(\n"
     ]
    }
   ],
   "source": [
    "y_pred=pipe_xgc.predict([['34','0','0','0','0','0','2','0','1','3','2','1','3','1','0']])\n",
    "# y_pred=pipe_xgc.predict([['30','0','0','0','1','0','0','0','1','3','2','1','1','1','0']])\n",
    "        \n",
    "if y_pred[0] == 0:\n",
    "    y_pred = 'Panic_Disorder_Diagnosis is False'\n",
    "elif y_pred[0] == 1:\n",
    "    y_pred = 'Panic_Disorder_Diagnosis is True'\n",
    "else:\n",
    "    y_pred = 'Can Not'\n",
    "print(y_pred)"
   ]
  }
 ],
 "metadata": {
  "kernelspec": {
   "display_name": "Python 3 (ipykernel)",
   "language": "python",
   "name": "python3"
  },
  "language_info": {
   "codemirror_mode": {
    "name": "ipython",
    "version": 3
   },
   "file_extension": ".py",
   "mimetype": "text/x-python",
   "name": "python",
   "nbconvert_exporter": "python",
   "pygments_lexer": "ipython3",
   "version": "3.12.0"
  }
 },
 "nbformat": 4,
 "nbformat_minor": 5
}
