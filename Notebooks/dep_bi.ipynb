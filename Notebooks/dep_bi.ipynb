{
 "cells": [
  {
   "cell_type": "code",
   "execution_count": 1,
   "id": "dc2a3a2d-aba2-4420-ab84-26c8184c0aca",
   "metadata": {},
   "outputs": [],
   "source": [
    "import numpy as np\n",
    "import pandas as pd\n",
    "from sklearn.compose import ColumnTransformer\n",
    "from sklearn.preprocessing import OrdinalEncoder, OneHotEncoder, LabelEncoder\n",
    "from sklearn.pipeline import Pipeline\n",
    "from sklearn.neural_network import MLPClassifier\n",
    "from sklearn.model_selection import train_test_split"
   ]
  },
  {
   "cell_type": "code",
   "execution_count": 8,
   "id": "73729069-1bca-4db0-83ef-d2c87816d7c7",
   "metadata": {},
   "outputs": [
    {
     "data": {
      "text/html": [
       "<div>\n",
       "<style scoped>\n",
       "    .dataframe tbody tr th:only-of-type {\n",
       "        vertical-align: middle;\n",
       "    }\n",
       "\n",
       "    .dataframe tbody tr th {\n",
       "        vertical-align: top;\n",
       "    }\n",
       "\n",
       "    .dataframe thead th {\n",
       "        text-align: right;\n",
       "    }\n",
       "</style>\n",
       "<table border=\"1\" class=\"dataframe\">\n",
       "  <thead>\n",
       "    <tr style=\"text-align: right;\">\n",
       "      <th></th>\n",
       "      <th>Patient Number</th>\n",
       "      <th>Sadness</th>\n",
       "      <th>Euphoric</th>\n",
       "      <th>Exhausted</th>\n",
       "      <th>Sleep_dissorder</th>\n",
       "      <th>Mood_Swing</th>\n",
       "      <th>Suicidal_thoughts</th>\n",
       "      <th>Anorxia</th>\n",
       "      <th>Authority_Respect</th>\n",
       "      <th>Try-Explanation</th>\n",
       "      <th>Aggressive_Response</th>\n",
       "      <th>Ignore_And_Move_On</th>\n",
       "      <th>Nervous_Break-down</th>\n",
       "      <th>Admit_Mistakes</th>\n",
       "      <th>Overthinking</th>\n",
       "      <th>Sexual_Activity</th>\n",
       "      <th>Concentration</th>\n",
       "      <th>Optimisim</th>\n",
       "      <th>Expert_Diagnose</th>\n",
       "    </tr>\n",
       "  </thead>\n",
       "  <tbody>\n",
       "    <tr>\n",
       "      <th>0</th>\n",
       "      <td>Patiant-01</td>\n",
       "      <td>Usually</td>\n",
       "      <td>Seldom</td>\n",
       "      <td>Sometimes</td>\n",
       "      <td>Sometimes</td>\n",
       "      <td>YES</td>\n",
       "      <td>YES</td>\n",
       "      <td>NO</td>\n",
       "      <td>NO</td>\n",
       "      <td>YES</td>\n",
       "      <td>NO</td>\n",
       "      <td>NO</td>\n",
       "      <td>YES</td>\n",
       "      <td>YES</td>\n",
       "      <td>YES</td>\n",
       "      <td>3 From 10</td>\n",
       "      <td>3 From 10</td>\n",
       "      <td>4 From 10</td>\n",
       "      <td>Bipolar Type-2</td>\n",
       "    </tr>\n",
       "    <tr>\n",
       "      <th>1</th>\n",
       "      <td>Patiant-02</td>\n",
       "      <td>Usually</td>\n",
       "      <td>Seldom</td>\n",
       "      <td>Usually</td>\n",
       "      <td>Sometimes</td>\n",
       "      <td>NO</td>\n",
       "      <td>YES</td>\n",
       "      <td>NO</td>\n",
       "      <td>NO</td>\n",
       "      <td>NO</td>\n",
       "      <td>NO</td>\n",
       "      <td>NO</td>\n",
       "      <td>NO</td>\n",
       "      <td>NO</td>\n",
       "      <td>NO</td>\n",
       "      <td>4 From 10</td>\n",
       "      <td>2 From 10</td>\n",
       "      <td>5 From 10</td>\n",
       "      <td>Depression</td>\n",
       "    </tr>\n",
       "    <tr>\n",
       "      <th>2</th>\n",
       "      <td>Patiant-03</td>\n",
       "      <td>Sometimes</td>\n",
       "      <td>Most-Often</td>\n",
       "      <td>Sometimes</td>\n",
       "      <td>Sometimes</td>\n",
       "      <td>YES</td>\n",
       "      <td>NO</td>\n",
       "      <td>NO</td>\n",
       "      <td>NO</td>\n",
       "      <td>YES</td>\n",
       "      <td>YES</td>\n",
       "      <td>NO</td>\n",
       "      <td>YES</td>\n",
       "      <td>YES</td>\n",
       "      <td>NO</td>\n",
       "      <td>6 From 10</td>\n",
       "      <td>5 From 10</td>\n",
       "      <td>7 From 10</td>\n",
       "      <td>Bipolar Type-1</td>\n",
       "    </tr>\n",
       "    <tr>\n",
       "      <th>3</th>\n",
       "      <td>Patiant-04</td>\n",
       "      <td>Usually</td>\n",
       "      <td>Seldom</td>\n",
       "      <td>Usually</td>\n",
       "      <td>Most-Often</td>\n",
       "      <td>YES</td>\n",
       "      <td>YES</td>\n",
       "      <td>YES</td>\n",
       "      <td>NO</td>\n",
       "      <td>YES</td>\n",
       "      <td>NO</td>\n",
       "      <td>NO</td>\n",
       "      <td>NO</td>\n",
       "      <td>NO</td>\n",
       "      <td>NO</td>\n",
       "      <td>3 From 10</td>\n",
       "      <td>2 From 10</td>\n",
       "      <td>2 From 10</td>\n",
       "      <td>Bipolar Type-2</td>\n",
       "    </tr>\n",
       "    <tr>\n",
       "      <th>4</th>\n",
       "      <td>Patiant-05</td>\n",
       "      <td>Usually</td>\n",
       "      <td>Usually</td>\n",
       "      <td>Sometimes</td>\n",
       "      <td>Sometimes</td>\n",
       "      <td>NO</td>\n",
       "      <td>NO</td>\n",
       "      <td>NO</td>\n",
       "      <td>NO</td>\n",
       "      <td>NO</td>\n",
       "      <td>NO</td>\n",
       "      <td>NO</td>\n",
       "      <td>YES</td>\n",
       "      <td>YES</td>\n",
       "      <td>YES</td>\n",
       "      <td>5 From 10</td>\n",
       "      <td>5 From 10</td>\n",
       "      <td>6 From 10</td>\n",
       "      <td>Normal</td>\n",
       "    </tr>\n",
       "  </tbody>\n",
       "</table>\n",
       "</div>"
      ],
      "text/plain": [
       "  Patient Number    Sadness    Euphoric  Exhausted Sleep_dissorder Mood_Swing  \\\n",
       "0     Patiant-01    Usually      Seldom  Sometimes       Sometimes        YES   \n",
       "1     Patiant-02    Usually      Seldom    Usually       Sometimes         NO   \n",
       "2     Patiant-03  Sometimes  Most-Often  Sometimes       Sometimes        YES   \n",
       "3     Patiant-04    Usually      Seldom    Usually      Most-Often        YES   \n",
       "4     Patiant-05    Usually     Usually  Sometimes       Sometimes         NO   \n",
       "\n",
       "  Suicidal_thoughts Anorxia Authority_Respect Try-Explanation  \\\n",
       "0              YES       NO                NO             YES   \n",
       "1               YES      NO                NO              NO   \n",
       "2                NO      NO                NO             YES   \n",
       "3               YES     YES                NO             YES   \n",
       "4                NO      NO                NO              NO   \n",
       "\n",
       "  Aggressive_Response Ignore_And_Move_On Nervous_Break-down Admit_Mistakes  \\\n",
       "0                  NO                 NO                YES            YES   \n",
       "1                  NO                 NO                 NO             NO   \n",
       "2                 YES                 NO                YES            YES   \n",
       "3                  NO                 NO                 NO             NO   \n",
       "4                  NO                 NO                YES            YES   \n",
       "\n",
       "  Overthinking Sexual_Activity Concentration  Optimisim Expert_Diagnose  \n",
       "0          YES       3 From 10     3 From 10  4 From 10  Bipolar Type-2  \n",
       "1           NO       4 From 10     2 From 10  5 From 10      Depression  \n",
       "2           NO       6 From 10     5 From 10  7 From 10  Bipolar Type-1  \n",
       "3           NO       3 From 10     2 From 10  2 From 10  Bipolar Type-2  \n",
       "4          YES       5 From 10     5 From 10  6 From 10          Normal  "
      ]
     },
     "execution_count": 8,
     "metadata": {},
     "output_type": "execute_result"
    }
   ],
   "source": [
    "filepath= 'dataset/Dataset-Mental-Disorders.csv'\n",
    "mental_data = pd.read_csv(filepath)\n",
    "mental_data.head()"
   ]
  },
  {
   "cell_type": "code",
   "execution_count": 9,
   "id": "23f86f53-aa46-40d4-8af4-9f4afe3e6d28",
   "metadata": {},
   "outputs": [],
   "source": [
    "# mental_data['Suicidal thoughts'].replace('YES ', 'YES', inplace=True)\n",
    "mental_data.drop(\"Patient Number\",axis=1,inplace=True)"
   ]
  },
  {
   "cell_type": "code",
   "execution_count": 10,
   "id": "4c1283fb-1fbe-4ef4-a01f-33edd9d6610a",
   "metadata": {},
   "outputs": [],
   "source": [
    "ordinal_cols = ['Sadness', 'Euphoric', 'Exhausted', 'Sleep_Dissorder']\n",
    "categorical_cols = ['Mood_Swing','Suicidal_Thoughts','Anorxia','Authority_Respect','Try_Explanation','Aggressive_Response','Ignore_And_Move_On','Nervous_BreakDown','Admit_Mistakes','Overthinking']\n",
    "scale_cols= ['Sexual_Activity','Concentration','Optimisim']"
   ]
  },
  {
   "cell_type": "code",
   "execution_count": 11,
   "id": "965cb1b7-7cca-48a9-a4cf-403b02fe6879",
   "metadata": {},
   "outputs": [
    {
     "name": "stdout",
     "output_type": "stream",
     "text": [
      "done\n"
     ]
    }
   ],
   "source": [
    "preprocessor = ColumnTransformer(transformers=[\n",
    "        ('encoder_ordinal', OrdinalEncoder(), ordinal_cols),\n",
    "        ('encoder_nominal', OneHotEncoder(), categorical_cols),\n",
    "        ('encoder_scale', OrdinalEncoder(),scale_cols)\n",
    "])\n",
    "\n",
    "# pipeline chains steps together sequentially\n",
    "model = Pipeline(steps=[\n",
    "    ('preprocessor', preprocessor),\n",
    "    ('regressor', MLPClassifier(solver='lbfgs', alpha=1e-5, early_stopping = True, random_state=42))\n",
    "])\n",
    "\n",
    "print('done')"
   ]
  },
  {
   "cell_type": "code",
   "execution_count": 12,
   "id": "628f4d30-d891-4765-9fdb-0df1ba03ad95",
   "metadata": {},
   "outputs": [
    {
     "name": "stdout",
     "output_type": "stream",
     "text": [
      "[1 2 0 1 3]\n"
     ]
    }
   ],
   "source": [
    "X = mental_data.drop('Expert_Diagnose', axis=1)  # Specify axis=1 to drop columns\n",
    "y = mental_data['Expert_Diagnose']\n",
    "\n",
    "# Label encode the target variable 'Diagnoses'\n",
    "label_encoder = LabelEncoder()\n",
    "y = label_encoder.fit_transform(y)\n",
    "\n",
    "print(y[0:5])"
   ]
  },
  {
   "cell_type": "code",
   "execution_count": 13,
   "id": "503460b9-ba4a-4462-9ad3-6644cb7c3ad4",
   "metadata": {},
   "outputs": [
    {
     "data": {
      "text/html": [
       "<style>#sk-container-id-1 {color: black;}#sk-container-id-1 pre{padding: 0;}#sk-container-id-1 div.sk-toggleable {background-color: white;}#sk-container-id-1 label.sk-toggleable__label {cursor: pointer;display: block;width: 100%;margin-bottom: 0;padding: 0.3em;box-sizing: border-box;text-align: center;}#sk-container-id-1 label.sk-toggleable__label-arrow:before {content: \"▸\";float: left;margin-right: 0.25em;color: #696969;}#sk-container-id-1 label.sk-toggleable__label-arrow:hover:before {color: black;}#sk-container-id-1 div.sk-estimator:hover label.sk-toggleable__label-arrow:before {color: black;}#sk-container-id-1 div.sk-toggleable__content {max-height: 0;max-width: 0;overflow: hidden;text-align: left;background-color: #f0f8ff;}#sk-container-id-1 div.sk-toggleable__content pre {margin: 0.2em;color: black;border-radius: 0.25em;background-color: #f0f8ff;}#sk-container-id-1 input.sk-toggleable__control:checked~div.sk-toggleable__content {max-height: 200px;max-width: 100%;overflow: auto;}#sk-container-id-1 input.sk-toggleable__control:checked~label.sk-toggleable__label-arrow:before {content: \"▾\";}#sk-container-id-1 div.sk-estimator input.sk-toggleable__control:checked~label.sk-toggleable__label {background-color: #d4ebff;}#sk-container-id-1 div.sk-label input.sk-toggleable__control:checked~label.sk-toggleable__label {background-color: #d4ebff;}#sk-container-id-1 input.sk-hidden--visually {border: 0;clip: rect(1px 1px 1px 1px);clip: rect(1px, 1px, 1px, 1px);height: 1px;margin: -1px;overflow: hidden;padding: 0;position: absolute;width: 1px;}#sk-container-id-1 div.sk-estimator {font-family: monospace;background-color: #f0f8ff;border: 1px dotted black;border-radius: 0.25em;box-sizing: border-box;margin-bottom: 0.5em;}#sk-container-id-1 div.sk-estimator:hover {background-color: #d4ebff;}#sk-container-id-1 div.sk-parallel-item::after {content: \"\";width: 100%;border-bottom: 1px solid gray;flex-grow: 1;}#sk-container-id-1 div.sk-label:hover label.sk-toggleable__label {background-color: #d4ebff;}#sk-container-id-1 div.sk-serial::before {content: \"\";position: absolute;border-left: 1px solid gray;box-sizing: border-box;top: 0;bottom: 0;left: 50%;z-index: 0;}#sk-container-id-1 div.sk-serial {display: flex;flex-direction: column;align-items: center;background-color: white;padding-right: 0.2em;padding-left: 0.2em;position: relative;}#sk-container-id-1 div.sk-item {position: relative;z-index: 1;}#sk-container-id-1 div.sk-parallel {display: flex;align-items: stretch;justify-content: center;background-color: white;position: relative;}#sk-container-id-1 div.sk-item::before, #sk-container-id-1 div.sk-parallel-item::before {content: \"\";position: absolute;border-left: 1px solid gray;box-sizing: border-box;top: 0;bottom: 0;left: 50%;z-index: -1;}#sk-container-id-1 div.sk-parallel-item {display: flex;flex-direction: column;z-index: 1;position: relative;background-color: white;}#sk-container-id-1 div.sk-parallel-item:first-child::after {align-self: flex-end;width: 50%;}#sk-container-id-1 div.sk-parallel-item:last-child::after {align-self: flex-start;width: 50%;}#sk-container-id-1 div.sk-parallel-item:only-child::after {width: 0;}#sk-container-id-1 div.sk-dashed-wrapped {border: 1px dashed gray;margin: 0 0.4em 0.5em 0.4em;box-sizing: border-box;padding-bottom: 0.4em;background-color: white;}#sk-container-id-1 div.sk-label label {font-family: monospace;font-weight: bold;display: inline-block;line-height: 1.2em;}#sk-container-id-1 div.sk-label-container {text-align: center;}#sk-container-id-1 div.sk-container {/* jupyter's `normalize.less` sets `[hidden] { display: none; }` but bootstrap.min.css set `[hidden] { display: none !important; }` so we also need the `!important` here to be able to override the default hidden behavior on the sphinx rendered scikit-learn.org. See: https://github.com/scikit-learn/scikit-learn/issues/21755 */display: inline-block !important;position: relative;}#sk-container-id-1 div.sk-text-repr-fallback {display: none;}</style><div id=\"sk-container-id-1\" class=\"sk-top-container\"><div class=\"sk-text-repr-fallback\"><pre>Pipeline(steps=[(&#x27;preprocessor&#x27;,\n",
       "                 ColumnTransformer(transformers=[(&#x27;encoder_ordinal&#x27;,\n",
       "                                                  OrdinalEncoder(),\n",
       "                                                  [&#x27;Sadness&#x27;, &#x27;Euphoric&#x27;,\n",
       "                                                   &#x27;Exhausted&#x27;,\n",
       "                                                   &#x27;Sleep_dissorder&#x27;]),\n",
       "                                                 (&#x27;encoder_nominal&#x27;,\n",
       "                                                  OneHotEncoder(),\n",
       "                                                  [&#x27;Mood_Swing&#x27;,\n",
       "                                                   &#x27;Suicidal_thoughts&#x27;,\n",
       "                                                   &#x27;Anorxia&#x27;,\n",
       "                                                   &#x27;Authority_Respect&#x27;,\n",
       "                                                   &#x27;Try-Explanation&#x27;,\n",
       "                                                   &#x27;Aggressive_Response&#x27;,\n",
       "                                                   &#x27;Ignore_And_Move_On&#x27;,\n",
       "                                                   &#x27;Nervous_Break-down&#x27;,\n",
       "                                                   &#x27;Admit_Mistakes&#x27;,\n",
       "                                                   &#x27;Overthinking&#x27;]),\n",
       "                                                 (&#x27;encoder_scale&#x27;,\n",
       "                                                  OrdinalEncoder(),\n",
       "                                                  [&#x27;Sexual_Activity&#x27;,\n",
       "                                                   &#x27;Concentration&#x27;,\n",
       "                                                   &#x27;Optimisim&#x27;])])),\n",
       "                (&#x27;regressor&#x27;,\n",
       "                 MLPClassifier(alpha=1e-05, early_stopping=True,\n",
       "                               random_state=42, solver=&#x27;lbfgs&#x27;))])</pre><b>In a Jupyter environment, please rerun this cell to show the HTML representation or trust the notebook. <br />On GitHub, the HTML representation is unable to render, please try loading this page with nbviewer.org.</b></div><div class=\"sk-container\" hidden><div class=\"sk-item sk-dashed-wrapped\"><div class=\"sk-label-container\"><div class=\"sk-label sk-toggleable\"><input class=\"sk-toggleable__control sk-hidden--visually\" id=\"sk-estimator-id-1\" type=\"checkbox\" ><label for=\"sk-estimator-id-1\" class=\"sk-toggleable__label sk-toggleable__label-arrow\">Pipeline</label><div class=\"sk-toggleable__content\"><pre>Pipeline(steps=[(&#x27;preprocessor&#x27;,\n",
       "                 ColumnTransformer(transformers=[(&#x27;encoder_ordinal&#x27;,\n",
       "                                                  OrdinalEncoder(),\n",
       "                                                  [&#x27;Sadness&#x27;, &#x27;Euphoric&#x27;,\n",
       "                                                   &#x27;Exhausted&#x27;,\n",
       "                                                   &#x27;Sleep_dissorder&#x27;]),\n",
       "                                                 (&#x27;encoder_nominal&#x27;,\n",
       "                                                  OneHotEncoder(),\n",
       "                                                  [&#x27;Mood_Swing&#x27;,\n",
       "                                                   &#x27;Suicidal_thoughts&#x27;,\n",
       "                                                   &#x27;Anorxia&#x27;,\n",
       "                                                   &#x27;Authority_Respect&#x27;,\n",
       "                                                   &#x27;Try-Explanation&#x27;,\n",
       "                                                   &#x27;Aggressive_Response&#x27;,\n",
       "                                                   &#x27;Ignore_And_Move_On&#x27;,\n",
       "                                                   &#x27;Nervous_Break-down&#x27;,\n",
       "                                                   &#x27;Admit_Mistakes&#x27;,\n",
       "                                                   &#x27;Overthinking&#x27;]),\n",
       "                                                 (&#x27;encoder_scale&#x27;,\n",
       "                                                  OrdinalEncoder(),\n",
       "                                                  [&#x27;Sexual_Activity&#x27;,\n",
       "                                                   &#x27;Concentration&#x27;,\n",
       "                                                   &#x27;Optimisim&#x27;])])),\n",
       "                (&#x27;regressor&#x27;,\n",
       "                 MLPClassifier(alpha=1e-05, early_stopping=True,\n",
       "                               random_state=42, solver=&#x27;lbfgs&#x27;))])</pre></div></div></div><div class=\"sk-serial\"><div class=\"sk-item sk-dashed-wrapped\"><div class=\"sk-label-container\"><div class=\"sk-label sk-toggleable\"><input class=\"sk-toggleable__control sk-hidden--visually\" id=\"sk-estimator-id-2\" type=\"checkbox\" ><label for=\"sk-estimator-id-2\" class=\"sk-toggleable__label sk-toggleable__label-arrow\">preprocessor: ColumnTransformer</label><div class=\"sk-toggleable__content\"><pre>ColumnTransformer(transformers=[(&#x27;encoder_ordinal&#x27;, OrdinalEncoder(),\n",
       "                                 [&#x27;Sadness&#x27;, &#x27;Euphoric&#x27;, &#x27;Exhausted&#x27;,\n",
       "                                  &#x27;Sleep_dissorder&#x27;]),\n",
       "                                (&#x27;encoder_nominal&#x27;, OneHotEncoder(),\n",
       "                                 [&#x27;Mood_Swing&#x27;, &#x27;Suicidal_thoughts&#x27;, &#x27;Anorxia&#x27;,\n",
       "                                  &#x27;Authority_Respect&#x27;, &#x27;Try-Explanation&#x27;,\n",
       "                                  &#x27;Aggressive_Response&#x27;, &#x27;Ignore_And_Move_On&#x27;,\n",
       "                                  &#x27;Nervous_Break-down&#x27;, &#x27;Admit_Mistakes&#x27;,\n",
       "                                  &#x27;Overthinking&#x27;]),\n",
       "                                (&#x27;encoder_scale&#x27;, OrdinalEncoder(),\n",
       "                                 [&#x27;Sexual_Activity&#x27;, &#x27;Concentration&#x27;,\n",
       "                                  &#x27;Optimisim&#x27;])])</pre></div></div></div><div class=\"sk-parallel\"><div class=\"sk-parallel-item\"><div class=\"sk-item\"><div class=\"sk-label-container\"><div class=\"sk-label sk-toggleable\"><input class=\"sk-toggleable__control sk-hidden--visually\" id=\"sk-estimator-id-3\" type=\"checkbox\" ><label for=\"sk-estimator-id-3\" class=\"sk-toggleable__label sk-toggleable__label-arrow\">encoder_ordinal</label><div class=\"sk-toggleable__content\"><pre>[&#x27;Sadness&#x27;, &#x27;Euphoric&#x27;, &#x27;Exhausted&#x27;, &#x27;Sleep_dissorder&#x27;]</pre></div></div></div><div class=\"sk-serial\"><div class=\"sk-item\"><div class=\"sk-estimator sk-toggleable\"><input class=\"sk-toggleable__control sk-hidden--visually\" id=\"sk-estimator-id-4\" type=\"checkbox\" ><label for=\"sk-estimator-id-4\" class=\"sk-toggleable__label sk-toggleable__label-arrow\">OrdinalEncoder</label><div class=\"sk-toggleable__content\"><pre>OrdinalEncoder()</pre></div></div></div></div></div></div><div class=\"sk-parallel-item\"><div class=\"sk-item\"><div class=\"sk-label-container\"><div class=\"sk-label sk-toggleable\"><input class=\"sk-toggleable__control sk-hidden--visually\" id=\"sk-estimator-id-5\" type=\"checkbox\" ><label for=\"sk-estimator-id-5\" class=\"sk-toggleable__label sk-toggleable__label-arrow\">encoder_nominal</label><div class=\"sk-toggleable__content\"><pre>[&#x27;Mood_Swing&#x27;, &#x27;Suicidal_thoughts&#x27;, &#x27;Anorxia&#x27;, &#x27;Authority_Respect&#x27;, &#x27;Try-Explanation&#x27;, &#x27;Aggressive_Response&#x27;, &#x27;Ignore_And_Move_On&#x27;, &#x27;Nervous_Break-down&#x27;, &#x27;Admit_Mistakes&#x27;, &#x27;Overthinking&#x27;]</pre></div></div></div><div class=\"sk-serial\"><div class=\"sk-item\"><div class=\"sk-estimator sk-toggleable\"><input class=\"sk-toggleable__control sk-hidden--visually\" id=\"sk-estimator-id-6\" type=\"checkbox\" ><label for=\"sk-estimator-id-6\" class=\"sk-toggleable__label sk-toggleable__label-arrow\">OneHotEncoder</label><div class=\"sk-toggleable__content\"><pre>OneHotEncoder()</pre></div></div></div></div></div></div><div class=\"sk-parallel-item\"><div class=\"sk-item\"><div class=\"sk-label-container\"><div class=\"sk-label sk-toggleable\"><input class=\"sk-toggleable__control sk-hidden--visually\" id=\"sk-estimator-id-7\" type=\"checkbox\" ><label for=\"sk-estimator-id-7\" class=\"sk-toggleable__label sk-toggleable__label-arrow\">encoder_scale</label><div class=\"sk-toggleable__content\"><pre>[&#x27;Sexual_Activity&#x27;, &#x27;Concentration&#x27;, &#x27;Optimisim&#x27;]</pre></div></div></div><div class=\"sk-serial\"><div class=\"sk-item\"><div class=\"sk-estimator sk-toggleable\"><input class=\"sk-toggleable__control sk-hidden--visually\" id=\"sk-estimator-id-8\" type=\"checkbox\" ><label for=\"sk-estimator-id-8\" class=\"sk-toggleable__label sk-toggleable__label-arrow\">OrdinalEncoder</label><div class=\"sk-toggleable__content\"><pre>OrdinalEncoder()</pre></div></div></div></div></div></div></div></div><div class=\"sk-item\"><div class=\"sk-estimator sk-toggleable\"><input class=\"sk-toggleable__control sk-hidden--visually\" id=\"sk-estimator-id-9\" type=\"checkbox\" ><label for=\"sk-estimator-id-9\" class=\"sk-toggleable__label sk-toggleable__label-arrow\">MLPClassifier</label><div class=\"sk-toggleable__content\"><pre>MLPClassifier(alpha=1e-05, early_stopping=True, random_state=42, solver=&#x27;lbfgs&#x27;)</pre></div></div></div></div></div></div></div>"
      ],
      "text/plain": [
       "Pipeline(steps=[('preprocessor',\n",
       "                 ColumnTransformer(transformers=[('encoder_ordinal',\n",
       "                                                  OrdinalEncoder(),\n",
       "                                                  ['Sadness', 'Euphoric',\n",
       "                                                   'Exhausted',\n",
       "                                                   'Sleep_dissorder']),\n",
       "                                                 ('encoder_nominal',\n",
       "                                                  OneHotEncoder(),\n",
       "                                                  ['Mood_Swing',\n",
       "                                                   'Suicidal_thoughts',\n",
       "                                                   'Anorxia',\n",
       "                                                   'Authority_Respect',\n",
       "                                                   'Try-Explanation',\n",
       "                                                   'Aggressive_Response',\n",
       "                                                   'Ignore_And_Move_On',\n",
       "                                                   'Nervous_Break-down',\n",
       "                                                   'Admit_Mistakes',\n",
       "                                                   'Overthinking']),\n",
       "                                                 ('encoder_scale',\n",
       "                                                  OrdinalEncoder(),\n",
       "                                                  ['Sexual_Activity',\n",
       "                                                   'Concentration',\n",
       "                                                   'Optimisim'])])),\n",
       "                ('regressor',\n",
       "                 MLPClassifier(alpha=1e-05, early_stopping=True,\n",
       "                               random_state=42, solver='lbfgs'))])"
      ]
     },
     "execution_count": 13,
     "metadata": {},
     "output_type": "execute_result"
    }
   ],
   "source": [
    "X_train, X_test, y_train, y_test = train_test_split(X, y, test_size=0.2, random_state=101)\n",
    "\n",
    "model.fit(X_train, y_train)"
   ]
  },
  {
   "cell_type": "code",
   "execution_count": 14,
   "id": "e1df1d7b-ba23-4bb7-bb45-bb62fa8628d5",
   "metadata": {},
   "outputs": [
    {
     "name": "stdout",
     "output_type": "stream",
     "text": [
      "Accuracy: 0.9166666666666666\n"
     ]
    }
   ],
   "source": [
    "accuracy = model.score(X_test, y_test)\n",
    "print(\"Accuracy:\", accuracy)"
   ]
  },
  {
   "cell_type": "code",
   "execution_count": 15,
   "id": "ed440827-043a-467f-b54f-f9b5319f3d57",
   "metadata": {},
   "outputs": [
    {
     "data": {
      "text/html": [
       "<div>\n",
       "<style scoped>\n",
       "    .dataframe tbody tr th:only-of-type {\n",
       "        vertical-align: middle;\n",
       "    }\n",
       "\n",
       "    .dataframe tbody tr th {\n",
       "        vertical-align: top;\n",
       "    }\n",
       "\n",
       "    .dataframe thead th {\n",
       "        text-align: right;\n",
       "    }\n",
       "</style>\n",
       "<table border=\"1\" class=\"dataframe\">\n",
       "  <thead>\n",
       "    <tr style=\"text-align: right;\">\n",
       "      <th></th>\n",
       "      <th>Sadness</th>\n",
       "      <th>Euphoric</th>\n",
       "      <th>Exhausted</th>\n",
       "      <th>Sleep_dissorder</th>\n",
       "      <th>Mood_Swing</th>\n",
       "      <th>Suicidal_thoughts</th>\n",
       "      <th>Anorxia</th>\n",
       "      <th>Authority_Respect</th>\n",
       "      <th>Try-Explanation</th>\n",
       "      <th>Aggressive_Response</th>\n",
       "      <th>Ignore_And_Move_On</th>\n",
       "      <th>Nervous_Break-down</th>\n",
       "      <th>Admit_Mistakes</th>\n",
       "      <th>Overthinking</th>\n",
       "      <th>Sexual_Activity</th>\n",
       "      <th>Concentration</th>\n",
       "      <th>Optimisim</th>\n",
       "    </tr>\n",
       "  </thead>\n",
       "  <tbody>\n",
       "    <tr>\n",
       "      <th>0</th>\n",
       "      <td>Usually</td>\n",
       "      <td>Seldom</td>\n",
       "      <td>Sometimes</td>\n",
       "      <td>Sometimes</td>\n",
       "      <td>YES</td>\n",
       "      <td>YES</td>\n",
       "      <td>NO</td>\n",
       "      <td>NO</td>\n",
       "      <td>YES</td>\n",
       "      <td>NO</td>\n",
       "      <td>NO</td>\n",
       "      <td>YES</td>\n",
       "      <td>YES</td>\n",
       "      <td>YES</td>\n",
       "      <td>3 From 10</td>\n",
       "      <td>3 From 10</td>\n",
       "      <td>4 From 10</td>\n",
       "    </tr>\n",
       "  </tbody>\n",
       "</table>\n",
       "</div>"
      ],
      "text/plain": [
       "   Sadness Euphoric  Exhausted Sleep_dissorder Mood_Swing Suicidal_thoughts  \\\n",
       "0  Usually   Seldom  Sometimes       Sometimes        YES              YES    \n",
       "\n",
       "  Anorxia Authority_Respect Try-Explanation Aggressive_Response  \\\n",
       "0      NO                NO             YES                  NO   \n",
       "\n",
       "  Ignore_And_Move_On Nervous_Break-down Admit_Mistakes Overthinking  \\\n",
       "0                 NO                YES            YES          YES   \n",
       "\n",
       "  Sexual_Activity Concentration  Optimisim  \n",
       "0       3 From 10     3 From 10  4 From 10  "
      ]
     },
     "execution_count": 15,
     "metadata": {},
     "output_type": "execute_result"
    }
   ],
   "source": [
    "z = X.head(1)\n",
    "z"
   ]
  },
  {
   "cell_type": "code",
   "execution_count": 16,
   "id": "3791b1e0-bad7-45f1-b4cd-e9aab106793f",
   "metadata": {},
   "outputs": [
    {
     "data": {
      "text/plain": [
       "array([1])"
      ]
     },
     "execution_count": 16,
     "metadata": {},
     "output_type": "execute_result"
    }
   ],
   "source": [
    "model.predict(z)"
   ]
  },
  {
   "cell_type": "code",
   "execution_count": 11,
   "id": "7f925922-0eeb-4bc9-b273-c467e6c21d8e",
   "metadata": {},
   "outputs": [
    {
     "data": {
      "text/plain": [
       "array([1, 2, 0, 1, 3, 2, 0, 3, 1, 2, 3, 0, 1, 3, 2, 0, 3, 0, 2, 3, 1, 0,\n",
       "       3, 2, 1, 3, 3, 2, 1, 3, 0, 2, 1, 0, 3, 2, 0, 1, 3, 1, 2, 1, 3, 0,\n",
       "       2, 1, 3, 1, 0, 2, 3, 1, 2, 0, 1, 3, 0, 0, 2, 3, 1, 2, 0, 1, 3, 2,\n",
       "       3, 0, 1, 0, 2, 1, 0, 3, 1, 2, 2, 1, 3, 2, 0, 1, 2, 3, 0, 1, 2, 0,\n",
       "       0, 3, 2, 1, 3, 0, 2, 1, 0, 3, 2, 1, 0, 2, 0, 3, 1, 2, 3, 2, 1, 2,\n",
       "       3, 1, 0, 1, 3, 2, 0, 1, 2, 3])"
      ]
     },
     "execution_count": 11,
     "metadata": {},
     "output_type": "execute_result"
    }
   ],
   "source": [
    "y"
   ]
  },
  {
   "cell_type": "code",
   "execution_count": 12,
   "id": "ccbeaeba-403e-4690-b255-c91c13575d16",
   "metadata": {},
   "outputs": [
    {
     "data": {
      "text/plain": [
       "0      Bipolar Type-2\n",
       "1          Depression\n",
       "2      Bipolar Type-1\n",
       "3      Bipolar Type-2\n",
       "4              Normal\n",
       "            ...      \n",
       "115        Depression\n",
       "116    Bipolar Type-1\n",
       "117    Bipolar Type-2\n",
       "118        Depression\n",
       "119            Normal\n",
       "Name: Expert Diagnose, Length: 120, dtype: object"
      ]
     },
     "execution_count": 12,
     "metadata": {},
     "output_type": "execute_result"
    }
   ],
   "source": [
    "mental_data['Expert_Diagnose']"
   ]
  },
  {
   "cell_type": "raw",
   "id": "ce071290-24a8-478c-a5f9-b458b64dd9f8",
   "metadata": {},
   "source": [
    "\"Bipolar Type-2\"  = 1\n",
    "\"Depression\"     = 2 \n",
    "\"Bipolar Type-1\" = 0\n",
    "\"Normal\"         = 3"
   ]
  }
 ],
 "metadata": {
  "kernelspec": {
   "display_name": "venv",
   "language": "python",
   "name": "venv"
  },
  "language_info": {
   "codemirror_mode": {
    "name": "ipython",
    "version": 3
   },
   "file_extension": ".py",
   "mimetype": "text/x-python",
   "name": "python",
   "nbconvert_exporter": "python",
   "pygments_lexer": "ipython3",
   "version": "3.11.5"
  }
 },
 "nbformat": 4,
 "nbformat_minor": 5
}
