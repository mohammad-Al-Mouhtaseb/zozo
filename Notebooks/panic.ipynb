{
 "cells": [
  {
   "cell_type": "code",
   "execution_count": null,
   "id": "0b48942c",
   "metadata": {},
   "outputs": [
    {
     "ename": "",
     "evalue": "",
     "output_type": "error",
     "traceback": [
      "\u001b[1;31mRunning cells with 'env' requires the ipykernel package.\n",
      "\u001b[1;31mRun the following command to install 'ipykernel' into the Python environment. \n",
      "\u001b[1;31mCommand: 'e:/jp/env/Scripts/python.exe -m pip install ipykernel -U --force-reinstall'"
     ]
    }
   ],
   "source": [
    "import joblib\n",
    "import pandas as pd\n",
    "from sklearn.model_selection import train_test_split\n",
    "from sklearn.compose import ColumnTransformer\n",
    "from sklearn.pipeline import Pipeline\n",
    "from sklearn.preprocessing import StandardScaler\n",
    "from sklearn.tree import DecisionTreeClassifier\n",
    "from sklearn.ensemble import RandomForestClassifier\n",
    "from sklearn import set_config\n",
    "from sklearn.metrics import accuracy_score\n",
    "# import xgboost as xgb\n",
    "from xgboost import XGBClassifier"
   ]
  },
  {
   "cell_type": "code",
   "execution_count": null,
   "id": "87fbb51e",
   "metadata": {},
   "outputs": [],
   "source": [
    "df = pd.read_csv('dataset/panic_disorder_dataset_training.csv')"
   ]
  },
  {
   "cell_type": "code",
   "execution_count": null,
   "id": "7c960ec5",
   "metadata": {},
   "outputs": [
    {
     "name": "stderr",
     "output_type": "stream",
     "text": [
      "C:\\Users\\malmo\\AppData\\Local\\Temp\\ipykernel_10384\\839414509.py:19: FutureWarning: Downcasting behavior in `replace` is deprecated and will be removed in a future version. To retain the old behavior, explicitly call `result.infer_objects(copy=False)`. To opt-in to the future behavior, set `pd.set_option('future.no_silent_downcasting', True)`\n",
      "  df_No = df_No.replace(mapping)\n"
     ]
    }
   ],
   "source": [
    "df_No = df\n",
    "columns = ['Gender','Family_History','Personal_History','Current_Stressors','Symptoms','Severity','Impact_on_Life','Demographics','Medical_History','Psychiatric_History','Substance_Use','Coping_Mechanisms','Social_Support','Lifestyle_Factors']\n",
    "# Create a dictionary that maps each categorical value to a unique integer\n",
    "mapping = {}\n",
    "category = ''\n",
    "encoding = 0\n",
    "for column in columns:\n",
    "    unique_values = df[column].unique()\n",
    "    #print('---------------------------------------------------------------------')\n",
    "    #print('column = ',column)\n",
    "    for i, value in enumerate(unique_values):\n",
    "        mapping[value] = i\n",
    "        category = value\n",
    "        encoding = i\n",
    "        #print('category = ',category, '(',encoding,')')\n",
    "        \n",
    "\n",
    "# Use the `replace()` method to replace the categorical values with their corresponding integers\n",
    "df_No = df_No.replace(mapping)\n",
    "\n",
    "filter_b=df_No['Panic_Disorder_Diagnosis'].between(1,3)\n",
    "mult_condition_filters = df_No[filter_b]"
   ]
  },
  {
   "cell_type": "code",
   "execution_count": null,
   "id": "1ba7f76b",
   "metadata": {},
   "outputs": [
    {
     "name": "stdout",
     "output_type": "stream",
     "text": [
      "('Accuracy:', 0.9766)\n"
     ]
    }
   ],
   "source": [
    "x_train,x_test,y_train,y_test = train_test_split(df_No.drop(columns = ['Panic_Disorder_Diagnosis','Participant_ID'] , axis = 1) , df_No['Panic_Disorder_Diagnosis'] , test_size = 0.3, random_state = 65)\n",
    "\n",
    "tf1_xgc = ColumnTransformer([('Standard Scaler', StandardScaler(), slice(0,17))])\n",
    "xgc = XGBClassifier()\n",
    "\n",
    "pipe_xgc = Pipeline([('StandardScaler',tf1_xgc),('XG Boost Classifier',xgc)])\n",
    "\n",
    "pipe_xgc.fit(x_train.values,y_train)\n",
    "\n",
    "# Calculate the accuracy of the classifier\n",
    "y_pred_xgc = pipe_xgc.predict(x_test.values)\n",
    "accuracy_xgc = accuracy_score(y_test, y_pred_xgc)\n",
    "print((\"Accuracy:\", accuracy_xgc))\n",
    "\n",
    "set_config(display='diagram')\n",
    "#pipe_xgc"
   ]
  },
  {
   "cell_type": "code",
   "execution_count": null,
   "id": "4d5ae2b9",
   "metadata": {},
   "outputs": [],
   "source": [
    "test = pd.read_csv('dataset/panic_disorder_dataset_testing.csv')"
   ]
  },
  {
   "cell_type": "code",
   "execution_count": null,
   "id": "cafe6ca4",
   "metadata": {},
   "outputs": [
    {
     "name": "stderr",
     "output_type": "stream",
     "text": [
      "C:\\Users\\malmo\\AppData\\Local\\Temp\\ipykernel_10384\\2069597830.py:19: FutureWarning: Downcasting behavior in `replace` is deprecated and will be removed in a future version. To retain the old behavior, explicitly call `result.infer_objects(copy=False)`. To opt-in to the future behavior, set `pd.set_option('future.no_silent_downcasting', True)`\n",
      "  test_No = test_No.replace(mapping)\n"
     ]
    }
   ],
   "source": [
    "test_No = test\n",
    "columns = ['Gender','Family_History','Personal_History','Current_Stressors','Symptoms','Severity','Impact_on_Life','Demographics','Medical_History','Psychiatric_History','Substance_Use','Coping_Mechanisms','Social_Support','Lifestyle_Factors']\n",
    "# Create a dictionary that maps each categorical value to a unique integer\n",
    "mapping = {}\n",
    "category = ''\n",
    "encoding = 0\n",
    "for column in columns:\n",
    "    unique_values = df[column].unique()\n",
    "    #print('---------------------------------------------------------------------')\n",
    "    #print('column = ',column)\n",
    "    for i, value in enumerate(unique_values):\n",
    "        mapping[value] = i\n",
    "        category = value\n",
    "        encoding = i\n",
    "        #print('category = ',category, '(',encoding,')')\n",
    "        \n",
    "\n",
    "# Use the `replace()` method to replace the categorical values with their corresponding integers\n",
    "test_No = test_No.replace(mapping)"
   ]
  },
  {
   "cell_type": "code",
   "execution_count": null,
   "id": "d1403a87",
   "metadata": {},
   "outputs": [],
   "source": [
    "x_test1 = test_No.drop(columns = ['Panic_Disorder_Diagnosis','Participant_ID'] , axis = 1)\n",
    "y_test1 = test_No['Panic_Disorder_Diagnosis']"
   ]
  },
  {
   "cell_type": "code",
   "execution_count": null,
   "id": "cfeb190f",
   "metadata": {},
   "outputs": [
    {
     "name": "stderr",
     "output_type": "stream",
     "text": [
      "e:\\jp\\djenv\\Lib\\site-packages\\sklearn\\base.py:486: UserWarning: X has feature names, but StandardScaler was fitted without feature names\n",
      "  warnings.warn(\n"
     ]
    }
   ],
   "source": [
    "y_pred_x_test1 = pipe_xgc.predict(x_test1)"
   ]
  },
  {
   "cell_type": "code",
   "execution_count": null,
   "id": "e37daf01",
   "metadata": {},
   "outputs": [],
   "source": [
    "accuracy_xgc = accuracy_score(y_test1, y_pred_x_test1)\n",
    "#print('Accuracy of XGBoost Classifier on Test Dataset = ', accuracy_xgc)"
   ]
  },
  {
   "cell_type": "code",
   "execution_count": null,
   "id": "2504e4b6",
   "metadata": {},
   "outputs": [
    {
     "data": {
      "text/plain": [
       "['./../savedModels/XGBoost.joblib']"
      ]
     },
     "execution_count": 10,
     "metadata": {},
     "output_type": "execute_result"
    }
   ],
   "source": [
    "joblib.dump(mapping, \"./../savedModels/panic_mapping.joblib\", compress=True)\n",
    "joblib.dump(pipe_xgc, \"./../savedModels/panic_XGBoost.joblib\", compress=True)"
   ]
  },
  {
   "cell_type": "code",
   "execution_count": null,
   "id": "4f6d7dc1",
   "metadata": {},
   "outputs": [
    {
     "data": {
      "text/plain": [
       "{'Male': 0,\n",
       " 'Female': 1,\n",
       " 'No': 1,\n",
       " 'Yes': 0,\n",
       " 'Moderate': 1,\n",
       " 'High': 0,\n",
       " 'Low': 2,\n",
       " 'Shortness of breath': 0,\n",
       " 'Panic attacks': 1,\n",
       " 'Chest pain': 2,\n",
       " 'Dizziness': 3,\n",
       " 'Fear of losing control': 4,\n",
       " 'Mild': 0,\n",
       " 'Severe': 2,\n",
       " 'Significant': 1,\n",
       " 'Rural': 0,\n",
       " 'Urban': 1,\n",
       " 'Diabetes': 0,\n",
       " 'Asthma': 1,\n",
       " nan: 0,\n",
       " 'Heart disease': 3,\n",
       " 'Bipolar disorder': 0,\n",
       " 'Anxiety disorder': 1,\n",
       " 'Depressive disorder': 2,\n",
       " 'Drugs': 1,\n",
       " 'Alcohol': 2,\n",
       " 'Socializing': 0,\n",
       " 'Exercise': 1,\n",
       " 'Seeking therapy': 2,\n",
       " 'Meditation': 3,\n",
       " 'Sleep quality': 0,\n",
       " 'Diet': 2}"
      ]
     },
     "execution_count": 11,
     "metadata": {},
     "output_type": "execute_result"
    }
   ],
   "source": [
    "#joblib.load(\"./XGBoost.joblib\")\n",
    "mapping"
   ]
  },
  {
   "cell_type": "code",
   "execution_count": null,
   "id": "f87988d2",
   "metadata": {},
   "outputs": [
    {
     "name": "stdout",
     "output_type": "stream",
     "text": [
      "Panic_Disorder_Diagnosis is True\n"
     ]
    }
   ],
   "source": [
    "y_pred=pipe_xgc.predict([['34','0','0','0','0','0','2','0','1','3','2','1','3','1','0']])\n",
    "# y_pred=pipe_xgc.predict([['30','0','0','0','1','0','0','0','1','3','2','1','1','1','0']])\n",
    "        \n",
    "if y_pred[0] == 0:\n",
    "    y_pred = 'Panic_Disorder_Diagnosis is False'\n",
    "elif y_pred[0] == 1:\n",
    "    y_pred = 'Panic_Disorder_Diagnosis is True'\n",
    "else:\n",
    "    y_pred = 'Can Not'\n",
    "print(y_pred)"
   ]
  }
 ],
 "metadata": {
  "kernelspec": {
   "display_name": "base",
   "language": "python",
   "name": "python3"
  },
  "language_info": {
   "codemirror_mode": {
    "name": "ipython",
    "version": 3
   },
   "file_extension": ".py",
   "mimetype": "text/x-python",
   "name": "python",
   "nbconvert_exporter": "python",
   "pygments_lexer": "ipython3",
   "version": "3.12.0"
  }
 },
 "nbformat": 4,
 "nbformat_minor": 5
}
